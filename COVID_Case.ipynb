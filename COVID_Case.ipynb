{
  "nbformat": 4,
  "nbformat_minor": 0,
  "metadata": {
    "colab": {
      "name": "COVID Case.ipynb",
      "provenance": [],
      "collapsed_sections": [],
      "toc_visible": true,
      "authorship_tag": "ABX9TyP32IDYQM88UuQRSLEaWEsv",
      "include_colab_link": true
    },
    "kernelspec": {
      "name": "python3",
      "display_name": "Python 3"
    },
    "language_info": {
      "name": "python"
    }
  },
  "cells": [
    {
      "cell_type": "markdown",
      "metadata": {
        "id": "view-in-github",
        "colab_type": "text"
      },
      "source": [
        "<a href=\"https://colab.research.google.com/github/georgegatanas/Mini-Python-Project/blob/main/COVID_Case.ipynb\" target=\"_parent\"><img src=\"https://colab.research.google.com/assets/colab-badge.svg\" alt=\"Open In Colab\"/></a>"
      ]
    },
    {
      "cell_type": "code",
      "execution_count": 1,
      "metadata": {
        "id": "qozZyZ0fBsmJ"
      },
      "outputs": [],
      "source": [
        "import matplotlib.pyplot as plt\n",
        "import pandas as pd\n",
        "import os"
      ]
    },
    {
      "cell_type": "markdown",
      "source": [
        "Import Pandas (using the code \"import pandas as pd\"), then import the csv files of the data to be used. My files were saved in my google drive, so they were imported from my local drive with the command below. The os (operating system) is also imported, as it is important in providing underlying fucntions that help the user input their data/equations smoothly to get a nice output."
      ],
      "metadata": {
        "id": "6L0IaR__3IM5"
      }
    },
    {
      "cell_type": "code",
      "source": [
        "from google.colab import drive\n",
        "drive.mount(\"/content/drive\")"
      ],
      "metadata": {
        "colab": {
          "base_uri": "https://localhost:8080/"
        },
        "id": "cMybWYdDCMgE",
        "outputId": "d364848f-901a-4681-ba86-4e9cbda4fee9"
      },
      "execution_count": 2,
      "outputs": [
        {
          "output_type": "stream",
          "name": "stdout",
          "text": [
            "Drive already mounted at /content/drive; to attempt to forcibly remount, call drive.mount(\"/content/drive\", force_remount=True).\n"
          ]
        }
      ]
    },
    {
      "cell_type": "code",
      "source": [
        "FOLDER_NAME = \"/content/drive/My Drive/Cooper Union S1/Comp Programming for Eng\""
      ],
      "metadata": {
        "id": "EIzQJdYnCV8Q"
      },
      "execution_count": 3,
      "outputs": []
    },
    {
      "cell_type": "code",
      "source": [
        "FILE_NAME = \"new-york-history.csv\""
      ],
      "metadata": {
        "id": "-aI2cz84BvSx"
      },
      "execution_count": 4,
      "outputs": []
    },
    {
      "cell_type": "code",
      "source": [
        "OUTPUT_NAME = \"death-counts.csv\""
      ],
      "metadata": {
        "id": "wDXPFNRxDokn"
      },
      "execution_count": 5,
      "outputs": []
    },
    {
      "cell_type": "code",
      "source": [
        "PLOT_NAME = \"cumulative-counts.png\""
      ],
      "metadata": {
        "id": "BpGwrgRXGOZD"
      },
      "execution_count": 6,
      "outputs": []
    },
    {
      "cell_type": "markdown",
      "source": [
        "Each file is divided in order to manipulate each variable (date and death count) in the code, and eventually join their paths. "
      ],
      "metadata": {
        "id": "a_9hwTpuCp29"
      }
    },
    {
      "cell_type": "code",
      "source": [
        "COLUMNS = [\n",
        "    \"date\",\n",
        "    \"state\",\n",
        "    \"death\"\n",
        "]"
      ],
      "metadata": {
        "id": "CM47QZzKDWNe"
      },
      "execution_count": 7,
      "outputs": []
    },
    {
      "cell_type": "code",
      "source": [
        "df = pd.read_csv(os.path.join(FOLDER_NAME, FILE_NAME))"
      ],
      "metadata": {
        "id": "7IANo-wnCikS"
      },
      "execution_count": 8,
      "outputs": []
    },
    {
      "cell_type": "code",
      "source": [
        "df = df[COLUMNS]"
      ],
      "metadata": {
        "id": "kFXEXp7_DeMA"
      },
      "execution_count": 9,
      "outputs": []
    },
    {
      "cell_type": "code",
      "source": [
        "print(df.head())"
      ],
      "metadata": {
        "colab": {
          "base_uri": "https://localhost:8080/"
        },
        "id": "i7nwH16fCnfW",
        "outputId": "314c145b-aecd-4311-e8b2-287759829d60"
      },
      "execution_count": 10,
      "outputs": [
        {
          "output_type": "stream",
          "name": "stdout",
          "text": [
            "         date state    death\n",
            "0  2021-03-07    NY  39029.0\n",
            "1  2021-03-06    NY  38970.0\n",
            "2  2021-03-05    NY  38891.0\n",
            "3  2021-03-04    NY  38796.0\n",
            "4  2021-03-03    NY  38735.0\n"
          ]
        }
      ]
    },
    {
      "cell_type": "code",
      "source": [
        "print(df.columns)"
      ],
      "metadata": {
        "colab": {
          "base_uri": "https://localhost:8080/"
        },
        "id": "8KiB0nFXCxSw",
        "outputId": "a5eadaf9-46f8-43bf-a621-78adf3e32cbd"
      },
      "execution_count": 11,
      "outputs": [
        {
          "output_type": "stream",
          "name": "stdout",
          "text": [
            "Index(['date', 'state', 'death'], dtype='object')\n"
          ]
        }
      ]
    },
    {
      "cell_type": "code",
      "source": [
        "df[\"date\"] = pd.to_datetime(df[\"date\"])"
      ],
      "metadata": {
        "id": "2kJ6tYm4CzrD"
      },
      "execution_count": 12,
      "outputs": []
    },
    {
      "cell_type": "code",
      "source": [
        "input_dates = input(\"Input dates of Total COVID death count in NY: \").split()"
      ],
      "metadata": {
        "colab": {
          "base_uri": "https://localhost:8080/"
        },
        "id": "l3V6pPiyC7jM",
        "outputId": "d113417d-3585-45e8-da53-415af042be05"
      },
      "execution_count": 13,
      "outputs": [
        {
          "name": "stdout",
          "output_type": "stream",
          "text": [
            "Input dates of Total COVID death count in NY: 11/1/2020 12/1/2020 1/1/2021 2/1/2021 3/1/2021\n"
          ]
        }
      ]
    },
    {
      "cell_type": "code",
      "source": [
        "input_dates = pd.to_datetime(input_dates)"
      ],
      "metadata": {
        "id": "jukMFIOzDD-s"
      },
      "execution_count": 14,
      "outputs": []
    },
    {
      "cell_type": "code",
      "source": [
        "df_in_dates = df.loc[df[\"date\"].isin(input_dates)].sort_values(by=\"date\")"
      ],
      "metadata": {
        "id": "crKuQKIzDG38"
      },
      "execution_count": 15,
      "outputs": []
    },
    {
      "cell_type": "code",
      "source": [
        "print(df_in_dates.head())"
      ],
      "metadata": {
        "colab": {
          "base_uri": "https://localhost:8080/"
        },
        "id": "SwHFM7U9DRUz",
        "outputId": "473ab47b-10f1-4e63-d00b-7022893bf95b"
      },
      "execution_count": 16,
      "outputs": [
        {
          "output_type": "stream",
          "name": "stdout",
          "text": [
            "          date state    death\n",
            "126 2020-11-01    NY  25824.0\n",
            "96  2020-12-01    NY  26816.0\n",
            "65  2021-01-01    NY  30208.0\n",
            "34  2021-02-01    NY  35319.0\n",
            "6   2021-03-01    NY  38577.0\n"
          ]
        }
      ]
    },
    {
      "cell_type": "code",
      "source": [
        "df_in_dates.to_csv(os.path.join(FOLDER_NAME, OUTPUT_NAME))"
      ],
      "metadata": {
        "id": "fQ3lc6q0DRcr"
      },
      "execution_count": 17,
      "outputs": []
    },
    {
      "cell_type": "code",
      "source": [
        "plt.figure()\n",
        "plt.plot(df_in_dates[\"death\"].values)\n",
        "plt.title(\"Cumulative COVID Death Counts in NY\")\n",
        "plt.xlabel(\"Dates\")\n",
        "plt.ylabel(\"Count\")\n",
        "plt.xticks(ticks=range(len(input_dates)), labels=input_dates.date, rotation=45)\n",
        "plt.savefig(os.path.join(FOLDER_NAME, PLOT_NAME), bbox_inches=\"tight\")\n",
        "plt.show()"
      ],
      "metadata": {
        "colab": {
          "base_uri": "https://localhost:8080/",
          "height": 333
        },
        "id": "W_zCdP2PEBja",
        "outputId": "ae5de0a9-5b51-45d4-8afa-0d59f5b1e9de"
      },
      "execution_count": 19,
      "outputs": [
        {
          "output_type": "display_data",
          "data": {
            "image/png": "[encoded data removed]",
            "text/plain": [
              "<Figure size 432x288 with 1 Axes>"
            ]
          },
          "metadata": {
            "needs_background": "light"
          }
        }
      ]
    }
  ]
}